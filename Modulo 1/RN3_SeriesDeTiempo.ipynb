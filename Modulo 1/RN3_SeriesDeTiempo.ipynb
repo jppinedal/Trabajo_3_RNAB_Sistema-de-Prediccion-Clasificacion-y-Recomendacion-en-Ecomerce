{
  "cells": [
    {
      "cell_type": "markdown",
      "metadata": {
        "id": "dd6IozYXhFzA"
      },
      "source": [
        "### Importing of libraries and data loading\n",
        "\n",
        "Import relevant libraries for data processing and model training, then load the dataset"
      ]
    },
    {
      "cell_type": "code",
      "execution_count": 3,
      "metadata": {
        "id": "TLp-UTvSh_5N"
      },
      "outputs": [],
      "source": [
        "import pandas as pd\n",
        "import numpy as np\n",
        "import seaborn as sns\n",
        "from scipy import stats\n",
        "from sklearn.preprocessing import RobustScaler, LabelEncoder\n",
        "from sklearn.model_selection import train_test_split\n",
        "from sklearn.metrics import mean_squared_error, mean_absolute_error\n",
        "import tensorflow as tf\n",
        "from tensorflow import keras\n",
        "from tensorflow.keras.models import Sequential\n",
        "from tensorflow.keras.layers import LSTM, Dense, Dropout\n",
        "from datetime import timedelta\n",
        "import matplotlib.pyplot as plt\n",
        "import zipfile\n",
        "import joblib"
      ]
    },
    {
      "cell_type": "code",
      "execution_count": 7,
      "metadata": {
        "colab": {
          "base_uri": "https://localhost:8080/"
        },
        "id": "FuNxd-4egWUH",
        "outputId": "ded89226-cfe8-4f23-e48a-2d1dfb678160"
      },
      "outputs": [
        {
          "name": "stdout",
          "output_type": "stream",
          "text": [
            "Dataset URL: https://www.kaggle.com/datasets/aslanahmedov/walmart-sales-forecast\n",
            "License(s): copyright-authors\n",
            "walmart-sales-forecast.zip: Skipping, found more recently modified local copy (use --force to force download)\n"
          ]
        }
      ],
      "source": [
        "# Download Kaggle dataset\n",
        "!kaggle datasets download \"aslanahmedov/walmart-sales-forecast\"\n",
        "\n",
        "# Extract .zip file\n",
        "file_path = 'walmart-sales-forecast.zip'\n",
        "\n",
        "with zipfile.ZipFile(file_path, 'r') as zip_ref:\n",
        "    zip_ref.extractall()\n",
        "\n",
        "# Load all datasets\n",
        "df_features = pd.read_csv(\"features.csv\")\n",
        "df_store = pd.read_csv(\"stores.csv\")\n",
        "df_train = pd.read_csv(\"train.csv\")\n",
        "df_test = pd.read_csv(\"test.csv\")"
      ]
    },
    {
      "cell_type": "markdown",
      "metadata": {
        "id": "djKcOTFkh2oK"
      },
      "source": [
        "### Data Preprocessing"
      ]
    },
    {
      "cell_type": "code",
      "execution_count": 8,
      "metadata": {
        "id": "9F0yc4lLggfO"
      },
      "outputs": [],
      "source": [
        "# Drop markdown columns (not enough info)\n",
        "markdown_cols = [col for col in df_features.columns if 'MarkDown' in col]\n",
        "df_features = df_features.drop(columns=markdown_cols)\n",
        "\n",
        "# Merge df_train and df_store\n",
        "train_df = pd.merge(df_train,df_store,on='Store',how='left')\n",
        "\n",
        "# Convert Store columns to string to ensure consistency\n",
        "df_features['Store'] = df_features['Store'].astype(str)\n",
        "df_train['Store'] = df_train['Store'].astype(str)\n",
        "df_store['Store'] = df_store['Store'].astype(str)\n",
        "\n",
        "# Convert date columns to datetime\n",
        "df_features['Date'] = pd.to_datetime(df_features['Date'])\n",
        "df_train['Date'] = pd.to_datetime(df_train['Date'])\n",
        "\n",
        "# Merge df_features with df_train on 'store' and 'date'\n",
        "merged_df = pd.merge(df_features, df_train, on=['Store', 'Date'], how='inner')\n",
        "\n",
        "# Merge the result with df_stores on 'store' only\n",
        "final_merged_df = pd.merge(merged_df, df_store, on='Store', how='inner')\n"
      ]
    },
    {
      "cell_type": "code",
      "execution_count": 9,
      "metadata": {
        "colab": {
          "base_uri": "https://localhost:8080/",
          "height": 226
        },
        "id": "llAilt_uc5ck",
        "outputId": "ea8e420c-d4f0-47fd-cf08-02bc9b772425"
      },
      "outputs": [
        {
          "data": {
            "text/html": [
              "<div>\n",
              "<style scoped>\n",
              "    .dataframe tbody tr th:only-of-type {\n",
              "        vertical-align: middle;\n",
              "    }\n",
              "\n",
              "    .dataframe tbody tr th {\n",
              "        vertical-align: top;\n",
              "    }\n",
              "\n",
              "    .dataframe thead th {\n",
              "        text-align: right;\n",
              "    }\n",
              "</style>\n",
              "<table border=\"1\" class=\"dataframe\">\n",
              "  <thead>\n",
              "    <tr style=\"text-align: right;\">\n",
              "      <th></th>\n",
              "      <th>Store</th>\n",
              "      <th>Date</th>\n",
              "      <th>Temperature</th>\n",
              "      <th>Fuel_Price</th>\n",
              "      <th>CPI</th>\n",
              "      <th>Unemployment</th>\n",
              "      <th>IsHoliday_x</th>\n",
              "      <th>Dept</th>\n",
              "      <th>Weekly_Sales</th>\n",
              "      <th>IsHoliday_y</th>\n",
              "      <th>Type</th>\n",
              "      <th>Size</th>\n",
              "    </tr>\n",
              "  </thead>\n",
              "  <tbody>\n",
              "    <tr>\n",
              "      <th>0</th>\n",
              "      <td>1</td>\n",
              "      <td>2010-02-05</td>\n",
              "      <td>42.31</td>\n",
              "      <td>2.572</td>\n",
              "      <td>211.096358</td>\n",
              "      <td>8.106</td>\n",
              "      <td>False</td>\n",
              "      <td>1</td>\n",
              "      <td>24924.50</td>\n",
              "      <td>False</td>\n",
              "      <td>A</td>\n",
              "      <td>151315</td>\n",
              "    </tr>\n",
              "    <tr>\n",
              "      <th>330761</th>\n",
              "      <td>35</td>\n",
              "      <td>2010-02-05</td>\n",
              "      <td>27.19</td>\n",
              "      <td>2.784</td>\n",
              "      <td>135.352461</td>\n",
              "      <td>9.262</td>\n",
              "      <td>False</td>\n",
              "      <td>3</td>\n",
              "      <td>14612.19</td>\n",
              "      <td>False</td>\n",
              "      <td>B</td>\n",
              "      <td>103681</td>\n",
              "    </tr>\n",
              "    <tr>\n",
              "      <th>330762</th>\n",
              "      <td>35</td>\n",
              "      <td>2010-02-05</td>\n",
              "      <td>27.19</td>\n",
              "      <td>2.784</td>\n",
              "      <td>135.352461</td>\n",
              "      <td>9.262</td>\n",
              "      <td>False</td>\n",
              "      <td>4</td>\n",
              "      <td>26323.15</td>\n",
              "      <td>False</td>\n",
              "      <td>B</td>\n",
              "      <td>103681</td>\n",
              "    </tr>\n",
              "    <tr>\n",
              "      <th>330763</th>\n",
              "      <td>35</td>\n",
              "      <td>2010-02-05</td>\n",
              "      <td>27.19</td>\n",
              "      <td>2.784</td>\n",
              "      <td>135.352461</td>\n",
              "      <td>9.262</td>\n",
              "      <td>False</td>\n",
              "      <td>5</td>\n",
              "      <td>36414.63</td>\n",
              "      <td>False</td>\n",
              "      <td>B</td>\n",
              "      <td>103681</td>\n",
              "    </tr>\n",
              "    <tr>\n",
              "      <th>330764</th>\n",
              "      <td>35</td>\n",
              "      <td>2010-02-05</td>\n",
              "      <td>27.19</td>\n",
              "      <td>2.784</td>\n",
              "      <td>135.352461</td>\n",
              "      <td>9.262</td>\n",
              "      <td>False</td>\n",
              "      <td>6</td>\n",
              "      <td>11437.81</td>\n",
              "      <td>False</td>\n",
              "      <td>B</td>\n",
              "      <td>103681</td>\n",
              "    </tr>\n",
              "  </tbody>\n",
              "</table>\n",
              "</div>"
            ],
            "text/plain": [
              "       Store       Date  Temperature  Fuel_Price         CPI  Unemployment  \\\n",
              "0          1 2010-02-05        42.31       2.572  211.096358         8.106   \n",
              "330761    35 2010-02-05        27.19       2.784  135.352461         9.262   \n",
              "330762    35 2010-02-05        27.19       2.784  135.352461         9.262   \n",
              "330763    35 2010-02-05        27.19       2.784  135.352461         9.262   \n",
              "330764    35 2010-02-05        27.19       2.784  135.352461         9.262   \n",
              "\n",
              "        IsHoliday_x  Dept  Weekly_Sales  IsHoliday_y Type    Size  \n",
              "0             False     1      24924.50        False    A  151315  \n",
              "330761        False     3      14612.19        False    B  103681  \n",
              "330762        False     4      26323.15        False    B  103681  \n",
              "330763        False     5      36414.63        False    B  103681  \n",
              "330764        False     6      11437.81        False    B  103681  "
            ]
          },
          "execution_count": 9,
          "metadata": {},
          "output_type": "execute_result"
        }
      ],
      "source": [
        "final_merged_df['Date'] = pd.to_datetime(final_merged_df['Date'],errors='coerce')\n",
        "final_merged_df.sort_values(by=['Date'],inplace=True)\n",
        "final_merged_df.head()"
      ]
    },
    {
      "cell_type": "code",
      "execution_count": 10,
      "metadata": {
        "colab": {
          "base_uri": "https://localhost:8080/"
        },
        "id": "dpmMijcGc8Iu",
        "outputId": "90f9e421-fcc0-42ac-f803-6bf4ace6b505"
      },
      "outputs": [
        {
          "data": {
            "text/html": [
              "<div>\n",
              "<style scoped>\n",
              "    .dataframe tbody tr th:only-of-type {\n",
              "        vertical-align: middle;\n",
              "    }\n",
              "\n",
              "    .dataframe tbody tr th {\n",
              "        vertical-align: top;\n",
              "    }\n",
              "\n",
              "    .dataframe thead th {\n",
              "        text-align: right;\n",
              "    }\n",
              "</style>\n",
              "<table border=\"1\" class=\"dataframe\">\n",
              "  <thead>\n",
              "    <tr style=\"text-align: right;\">\n",
              "      <th></th>\n",
              "      <th>Store</th>\n",
              "      <th>Date</th>\n",
              "      <th>Temperature</th>\n",
              "      <th>Fuel_Price</th>\n",
              "      <th>CPI</th>\n",
              "      <th>Unemployment</th>\n",
              "      <th>Dept</th>\n",
              "      <th>Weekly_Sales</th>\n",
              "      <th>IsHoliday</th>\n",
              "      <th>Type</th>\n",
              "      <th>Size</th>\n",
              "    </tr>\n",
              "  </thead>\n",
              "  <tbody>\n",
              "    <tr>\n",
              "      <th>0</th>\n",
              "      <td>1</td>\n",
              "      <td>2010-02-05</td>\n",
              "      <td>42.31</td>\n",
              "      <td>2.572</td>\n",
              "      <td>211.096358</td>\n",
              "      <td>8.106</td>\n",
              "      <td>1</td>\n",
              "      <td>24924.50</td>\n",
              "      <td>False</td>\n",
              "      <td>A</td>\n",
              "      <td>151315</td>\n",
              "    </tr>\n",
              "    <tr>\n",
              "      <th>330761</th>\n",
              "      <td>35</td>\n",
              "      <td>2010-02-05</td>\n",
              "      <td>27.19</td>\n",
              "      <td>2.784</td>\n",
              "      <td>135.352461</td>\n",
              "      <td>9.262</td>\n",
              "      <td>3</td>\n",
              "      <td>14612.19</td>\n",
              "      <td>False</td>\n",
              "      <td>B</td>\n",
              "      <td>103681</td>\n",
              "    </tr>\n",
              "    <tr>\n",
              "      <th>330762</th>\n",
              "      <td>35</td>\n",
              "      <td>2010-02-05</td>\n",
              "      <td>27.19</td>\n",
              "      <td>2.784</td>\n",
              "      <td>135.352461</td>\n",
              "      <td>9.262</td>\n",
              "      <td>4</td>\n",
              "      <td>26323.15</td>\n",
              "      <td>False</td>\n",
              "      <td>B</td>\n",
              "      <td>103681</td>\n",
              "    </tr>\n",
              "    <tr>\n",
              "      <th>330763</th>\n",
              "      <td>35</td>\n",
              "      <td>2010-02-05</td>\n",
              "      <td>27.19</td>\n",
              "      <td>2.784</td>\n",
              "      <td>135.352461</td>\n",
              "      <td>9.262</td>\n",
              "      <td>5</td>\n",
              "      <td>36414.63</td>\n",
              "      <td>False</td>\n",
              "      <td>B</td>\n",
              "      <td>103681</td>\n",
              "    </tr>\n",
              "    <tr>\n",
              "      <th>330764</th>\n",
              "      <td>35</td>\n",
              "      <td>2010-02-05</td>\n",
              "      <td>27.19</td>\n",
              "      <td>2.784</td>\n",
              "      <td>135.352461</td>\n",
              "      <td>9.262</td>\n",
              "      <td>6</td>\n",
              "      <td>11437.81</td>\n",
              "      <td>False</td>\n",
              "      <td>B</td>\n",
              "      <td>103681</td>\n",
              "    </tr>\n",
              "  </tbody>\n",
              "</table>\n",
              "</div>"
            ],
            "text/plain": [
              "       Store       Date  Temperature  Fuel_Price         CPI  Unemployment  \\\n",
              "0          1 2010-02-05        42.31       2.572  211.096358         8.106   \n",
              "330761    35 2010-02-05        27.19       2.784  135.352461         9.262   \n",
              "330762    35 2010-02-05        27.19       2.784  135.352461         9.262   \n",
              "330763    35 2010-02-05        27.19       2.784  135.352461         9.262   \n",
              "330764    35 2010-02-05        27.19       2.784  135.352461         9.262   \n",
              "\n",
              "        Dept  Weekly_Sales  IsHoliday Type    Size  \n",
              "0          1      24924.50      False    A  151315  \n",
              "330761     3      14612.19      False    B  103681  \n",
              "330762     4      26323.15      False    B  103681  \n",
              "330763     5      36414.63      False    B  103681  \n",
              "330764     6      11437.81      False    B  103681  "
            ]
          },
          "execution_count": 10,
          "metadata": {},
          "output_type": "execute_result"
        }
      ],
      "source": [
        "# Drop IsHoliday_x (equal to IsHoliday_y)\n",
        "final_merged_df.drop(columns='IsHoliday_x',inplace=True)\n",
        "final_merged_df.rename(columns={\"IsHoliday_y\" : \"IsHoliday\"}, inplace=True)\n",
        "final_merged_df.head()"
      ]
    },
    {
      "cell_type": "code",
      "execution_count": 11,
      "metadata": {
        "id": "jTmyAv_MfyBx"
      },
      "outputs": [
        {
          "data": {
            "text/html": [
              "<div>\n",
              "<style scoped>\n",
              "    .dataframe tbody tr th:only-of-type {\n",
              "        vertical-align: middle;\n",
              "    }\n",
              "\n",
              "    .dataframe tbody tr th {\n",
              "        vertical-align: top;\n",
              "    }\n",
              "\n",
              "    .dataframe thead th {\n",
              "        text-align: right;\n",
              "    }\n",
              "</style>\n",
              "<table border=\"1\" class=\"dataframe\">\n",
              "  <thead>\n",
              "    <tr style=\"text-align: right;\">\n",
              "      <th></th>\n",
              "      <th>Store</th>\n",
              "      <th>Date</th>\n",
              "      <th>Temperature</th>\n",
              "      <th>Fuel_Price</th>\n",
              "      <th>CPI</th>\n",
              "      <th>Unemployment</th>\n",
              "      <th>Dept</th>\n",
              "      <th>Weekly_Sales</th>\n",
              "      <th>IsHoliday</th>\n",
              "      <th>Type</th>\n",
              "      <th>Size</th>\n",
              "    </tr>\n",
              "  </thead>\n",
              "  <tbody>\n",
              "    <tr>\n",
              "      <th>0</th>\n",
              "      <td>1</td>\n",
              "      <td>2010-02-05</td>\n",
              "      <td>42.31</td>\n",
              "      <td>2.572</td>\n",
              "      <td>211.096358</td>\n",
              "      <td>8.106</td>\n",
              "      <td>1</td>\n",
              "      <td>24924.50</td>\n",
              "      <td>0</td>\n",
              "      <td>0</td>\n",
              "      <td>151315</td>\n",
              "    </tr>\n",
              "    <tr>\n",
              "      <th>330761</th>\n",
              "      <td>35</td>\n",
              "      <td>2010-02-05</td>\n",
              "      <td>27.19</td>\n",
              "      <td>2.784</td>\n",
              "      <td>135.352461</td>\n",
              "      <td>9.262</td>\n",
              "      <td>3</td>\n",
              "      <td>14612.19</td>\n",
              "      <td>0</td>\n",
              "      <td>1</td>\n",
              "      <td>103681</td>\n",
              "    </tr>\n",
              "    <tr>\n",
              "      <th>330762</th>\n",
              "      <td>35</td>\n",
              "      <td>2010-02-05</td>\n",
              "      <td>27.19</td>\n",
              "      <td>2.784</td>\n",
              "      <td>135.352461</td>\n",
              "      <td>9.262</td>\n",
              "      <td>4</td>\n",
              "      <td>26323.15</td>\n",
              "      <td>0</td>\n",
              "      <td>1</td>\n",
              "      <td>103681</td>\n",
              "    </tr>\n",
              "    <tr>\n",
              "      <th>330763</th>\n",
              "      <td>35</td>\n",
              "      <td>2010-02-05</td>\n",
              "      <td>27.19</td>\n",
              "      <td>2.784</td>\n",
              "      <td>135.352461</td>\n",
              "      <td>9.262</td>\n",
              "      <td>5</td>\n",
              "      <td>36414.63</td>\n",
              "      <td>0</td>\n",
              "      <td>1</td>\n",
              "      <td>103681</td>\n",
              "    </tr>\n",
              "    <tr>\n",
              "      <th>330764</th>\n",
              "      <td>35</td>\n",
              "      <td>2010-02-05</td>\n",
              "      <td>27.19</td>\n",
              "      <td>2.784</td>\n",
              "      <td>135.352461</td>\n",
              "      <td>9.262</td>\n",
              "      <td>6</td>\n",
              "      <td>11437.81</td>\n",
              "      <td>0</td>\n",
              "      <td>1</td>\n",
              "      <td>103681</td>\n",
              "    </tr>\n",
              "  </tbody>\n",
              "</table>\n",
              "</div>"
            ],
            "text/plain": [
              "       Store       Date  Temperature  Fuel_Price         CPI  Unemployment  \\\n",
              "0          1 2010-02-05        42.31       2.572  211.096358         8.106   \n",
              "330761    35 2010-02-05        27.19       2.784  135.352461         9.262   \n",
              "330762    35 2010-02-05        27.19       2.784  135.352461         9.262   \n",
              "330763    35 2010-02-05        27.19       2.784  135.352461         9.262   \n",
              "330764    35 2010-02-05        27.19       2.784  135.352461         9.262   \n",
              "\n",
              "        Dept  Weekly_Sales  IsHoliday  Type    Size  \n",
              "0          1      24924.50          0     0  151315  \n",
              "330761     3      14612.19          0     1  103681  \n",
              "330762     4      26323.15          0     1  103681  \n",
              "330763     5      36414.63          0     1  103681  \n",
              "330764     6      11437.81          0     1  103681  "
            ]
          },
          "execution_count": 11,
          "metadata": {},
          "output_type": "execute_result"
        }
      ],
      "source": [
        "le = LabelEncoder()\n",
        "\n",
        "final_merged_df['IsHoliday'] = le.fit_transform(final_merged_df['IsHoliday'])\n",
        "final_merged_df['Type'] = le.fit_transform(final_merged_df['Type'])\n",
        "\n",
        "data = final_merged_df\n",
        "\n",
        "data.head()"
      ]
    },
    {
      "cell_type": "code",
      "execution_count": null,
      "metadata": {},
      "outputs": [
        {
          "data": {
            "text/html": [
              "<div>\n",
              "<style scoped>\n",
              "    .dataframe tbody tr th:only-of-type {\n",
              "        vertical-align: middle;\n",
              "    }\n",
              "\n",
              "    .dataframe tbody tr th {\n",
              "        vertical-align: top;\n",
              "    }\n",
              "\n",
              "    .dataframe thead th {\n",
              "        text-align: right;\n",
              "    }\n",
              "</style>\n",
              "<table border=\"1\" class=\"dataframe\">\n",
              "  <thead>\n",
              "    <tr style=\"text-align: right;\">\n",
              "      <th></th>\n",
              "      <th>Store</th>\n",
              "      <th>Date</th>\n",
              "      <th>Temperature</th>\n",
              "      <th>Fuel_Price</th>\n",
              "      <th>CPI</th>\n",
              "      <th>Unemployment</th>\n",
              "      <th>Dept</th>\n",
              "      <th>Weekly_Sales</th>\n",
              "      <th>IsHoliday</th>\n",
              "      <th>Type</th>\n",
              "      <th>Size</th>\n",
              "    </tr>\n",
              "  </thead>\n",
              "  <tbody>\n",
              "    <tr>\n",
              "      <th>399021</th>\n",
              "      <td>4</td>\n",
              "      <td>2012-10-26</td>\n",
              "      <td>46.97</td>\n",
              "      <td>3.755</td>\n",
              "      <td>131.193097</td>\n",
              "      <td>5.621</td>\n",
              "      <td>47</td>\n",
              "      <td>7770.71</td>\n",
              "      <td>0</td>\n",
              "      <td>0</td>\n",
              "      <td>219622</td>\n",
              "    </tr>\n",
              "    <tr>\n",
              "      <th>399022</th>\n",
              "      <td>4</td>\n",
              "      <td>2012-10-26</td>\n",
              "      <td>46.97</td>\n",
              "      <td>3.755</td>\n",
              "      <td>131.193097</td>\n",
              "      <td>5.621</td>\n",
              "      <td>48</td>\n",
              "      <td>1486.00</td>\n",
              "      <td>0</td>\n",
              "      <td>0</td>\n",
              "      <td>219622</td>\n",
              "    </tr>\n",
              "    <tr>\n",
              "      <th>399023</th>\n",
              "      <td>4</td>\n",
              "      <td>2012-10-26</td>\n",
              "      <td>46.97</td>\n",
              "      <td>3.755</td>\n",
              "      <td>131.193097</td>\n",
              "      <td>5.621</td>\n",
              "      <td>50</td>\n",
              "      <td>4738.93</td>\n",
              "      <td>0</td>\n",
              "      <td>0</td>\n",
              "      <td>219622</td>\n",
              "    </tr>\n",
              "    <tr>\n",
              "      <th>399024</th>\n",
              "      <td>35</td>\n",
              "      <td>2012-10-26</td>\n",
              "      <td>41.80</td>\n",
              "      <td>3.686</td>\n",
              "      <td>199.219532</td>\n",
              "      <td>6.195</td>\n",
              "      <td>3</td>\n",
              "      <td>32699.78</td>\n",
              "      <td>0</td>\n",
              "      <td>0</td>\n",
              "      <td>196321</td>\n",
              "    </tr>\n",
              "    <tr>\n",
              "      <th>399025</th>\n",
              "      <td>39</td>\n",
              "      <td>2012-10-26</td>\n",
              "      <td>58.85</td>\n",
              "      <td>3.882</td>\n",
              "      <td>192.308899</td>\n",
              "      <td>8.667</td>\n",
              "      <td>79</td>\n",
              "      <td>1076.80</td>\n",
              "      <td>0</td>\n",
              "      <td>1</td>\n",
              "      <td>118221</td>\n",
              "    </tr>\n",
              "  </tbody>\n",
              "</table>\n",
              "</div>"
            ],
            "text/plain": [
              "        Store       Date  Temperature  Fuel_Price         CPI  Unemployment  \\\n",
              "399021      4 2012-10-26        46.97       3.755  131.193097         5.621   \n",
              "399022      4 2012-10-26        46.97       3.755  131.193097         5.621   \n",
              "399023      4 2012-10-26        46.97       3.755  131.193097         5.621   \n",
              "399024     35 2012-10-26        41.80       3.686  199.219532         6.195   \n",
              "399025     39 2012-10-26        58.85       3.882  192.308899         8.667   \n",
              "\n",
              "        Dept  Weekly_Sales  IsHoliday  Type    Size  \n",
              "399021    47       7770.71          0     0  219622  \n",
              "399022    48       1486.00          0     0  219622  \n",
              "399023    50       4738.93          0     0  219622  \n",
              "399024     3      32699.78          0     0  196321  \n",
              "399025    79       1076.80          0     1  118221  "
            ]
          },
          "execution_count": 68,
          "metadata": {},
          "output_type": "execute_result"
        }
      ],
      "source": [
        "data.tail()"
      ]
    },
    {
      "cell_type": "code",
      "execution_count": null,
      "metadata": {},
      "outputs": [],
      "source": [
        "data.to_csv('data_lstm.csv')"
      ]
    },
    {
      "cell_type": "code",
      "execution_count": null,
      "metadata": {},
      "outputs": [
        {
          "name": "stderr",
          "output_type": "stream",
          "text": [
            "C:\\Users\\camil\\AppData\\Local\\Temp\\ipykernel_11292\\2012940251.py:4: SettingWithCopyWarning:\n",
            "\n",
            "\n",
            "A value is trying to be set on a copy of a slice from a DataFrame.\n",
            "Try using .loc[row_indexer,col_indexer] = value instead\n",
            "\n",
            "See the caveats in the documentation: https://pandas.pydata.org/pandas-docs/stable/user_guide/indexing.html#returning-a-view-versus-a-copy\n",
            "\n"
          ]
        },
        {
          "data": {
            "text/html": [
              "<div>\n",
              "<style scoped>\n",
              "    .dataframe tbody tr th:only-of-type {\n",
              "        vertical-align: middle;\n",
              "    }\n",
              "\n",
              "    .dataframe tbody tr th {\n",
              "        vertical-align: top;\n",
              "    }\n",
              "\n",
              "    .dataframe thead th {\n",
              "        text-align: right;\n",
              "    }\n",
              "</style>\n",
              "<table border=\"1\" class=\"dataframe\">\n",
              "  <thead>\n",
              "    <tr style=\"text-align: right;\">\n",
              "      <th></th>\n",
              "      <th>Date</th>\n",
              "      <th>Weekly_Sales</th>\n",
              "    </tr>\n",
              "  </thead>\n",
              "  <tbody>\n",
              "    <tr>\n",
              "      <th>0</th>\n",
              "      <td>2010-02-07</td>\n",
              "      <td>16836.121997</td>\n",
              "    </tr>\n",
              "    <tr>\n",
              "      <th>1</th>\n",
              "      <td>2010-02-14</td>\n",
              "      <td>16352.056032</td>\n",
              "    </tr>\n",
              "    <tr>\n",
              "      <th>2</th>\n",
              "      <td>2010-02-21</td>\n",
              "      <td>16216.658979</td>\n",
              "    </tr>\n",
              "    <tr>\n",
              "      <th>3</th>\n",
              "      <td>2010-02-28</td>\n",
              "      <td>14899.549688</td>\n",
              "    </tr>\n",
              "    <tr>\n",
              "      <th>4</th>\n",
              "      <td>2010-03-07</td>\n",
              "      <td>15921.015727</td>\n",
              "    </tr>\n",
              "  </tbody>\n",
              "</table>\n",
              "</div>"
            ],
            "text/plain": [
              "        Date  Weekly_Sales\n",
              "0 2010-02-07  16836.121997\n",
              "1 2010-02-14  16352.056032\n",
              "2 2010-02-21  16216.658979\n",
              "3 2010-02-28  14899.549688\n",
              "4 2010-03-07  15921.015727"
            ]
          },
          "execution_count": 135,
          "metadata": {},
          "output_type": "execute_result"
        }
      ],
      "source": [
        "# Aggregate sales data for plotting\n",
        "sales_data = data[['Date', 'Weekly_Sales']]\n",
        "\n",
        "sales_data['Date'] = pd.to_datetime(sales_data['Date'])\n",
        "\n",
        "# Set Date as index\n",
        "sales_data = sales_data.set_index('Date')\n",
        "\n",
        "# Resample to weekly frequency and calculate mean\n",
        "weekly_sales = sales_data.resample('W')['Weekly_Sales'].mean().reset_index()\n",
        "\n",
        "weekly_sales.head()\n"
      ]
    },
    {
      "cell_type": "markdown",
      "metadata": {
        "id": "liTXjHEWdL5N"
      },
      "source": [
        "# Correlation Matrix"
      ]
    },
    {
      "cell_type": "code",
      "execution_count": 31,
      "metadata": {
        "id": "07k6i5XQdNX7"
      },
      "outputs": [],
      "source": [
        "import plotly.graph_objects as go\n",
        "import plotly.offline as po\n",
        "from plotly.offline import download_plotlyjs, init_notebook_mode, plot, iplot\n",
        "pd.options.plotting.backend= \"plotly\""
      ]
    },
    {
      "cell_type": "code",
      "execution_count": 32,
      "metadata": {
        "colab": {
          "base_uri": "https://localhost:8080/",
          "height": 545
        },
        "id": "b3K2Ut2idPG6",
        "outputId": "019d4d90-4a7a-4bdf-ec40-69e3e8ee7042"
      },
      "outputs": [
        {
          "data": {
            "image/png": "[encoded data removed]",
            "text/plain": [
              "<Figure size 1800x600 with 2 Axes>"
            ]
          },
          "metadata": {},
          "output_type": "display_data"
        }
      ],
      "source": [
        "data = final_merged_df\n",
        "correlation_matrix = data.corr()\n",
        "\n",
        "# Plot the heatmap\n",
        "plt.figure(figsize=(18, 6))\n",
        "sns.heatmap(correlation_matrix, annot=True, cmap='coolwarm', linewidths=0.5)\n",
        "plt.title('Correlation Heatmap')\n",
        "plt.show()"
      ]
    },
    {
      "cell_type": "markdown",
      "metadata": {
        "id": "Ay5sUOwhiL-z"
      },
      "source": [
        "# New Model"
      ]
    },
    {
      "cell_type": "code",
      "execution_count": 12,
      "metadata": {},
      "outputs": [],
      "source": [
        "def create_sequences(data, seq_length=7):\n",
        "    \"\"\"Create sequences for LSTM model\"\"\"\n",
        "    X, y = [], []\n",
        "    for i in range(len(data) - seq_length):\n",
        "        X.append(data[i:(i + seq_length)])\n",
        "        y.append(data[i + seq_length, 8])  # Index 8 corresponds to Weekly_Sales\n",
        "    return np.array(X), np.array(y)\n",
        "\n",
        "# Prepare the data\n",
        "data['Store'] = pd.Categorical(data['Store']).codes\n",
        "data['Dept'] = pd.Categorical(data['Dept']).codes\n",
        "data['Type'] = pd.Categorical(data['Type']).codes\n",
        "    \n",
        "# Remove outliers using z-score method\n",
        "numeric_columns = ['Weekly_Sales', 'Temperature', 'Fuel_Price', 'CPI', 'Unemployment']\n",
        "\n",
        "for column in numeric_columns:\n",
        "    z_scores = stats.zscore(data[column])\n",
        "    abs_z_scores = np.abs(z_scores)\n",
        "    filtered_entries = (abs_z_scores < 3)\n",
        "    data = data[filtered_entries]\n",
        "\n",
        "# Reset index after removing outliers\n",
        "data = data.reset_index(drop=True)\n",
        "\n",
        "scaler_dict = {}\n",
        "scaled_data = data.copy()\n",
        "\n",
        "# Scale numeric features\n",
        "numeric_features = ['Weekly_Sales', 'Temperature', 'Fuel_Price', 'CPI', 'Unemployment', 'Size']\n",
        "\n",
        "for feature in numeric_features:\n",
        "    scaler = RobustScaler()\n",
        "    scaled_data[feature] = scaler.fit_transform(data[feature].values.reshape(-1, 1))\n",
        "    scaler_dict[feature] = scaler\n",
        "    \n",
        "# Create feature matrix\n",
        "features = ['Store', 'Temperature', 'Fuel_Price', 'CPI', 'Unemployment', \n",
        "            'Dept', 'Weekly_Sales', 'IsHoliday', 'Type', 'Size']\n",
        "\n",
        "X = scaled_data[features].values\n",
        "\n",
        "# Create sequences\n",
        "seq_length = 7\n",
        "X_seq, y_seq = create_sequences(X, seq_length)\n",
        "\n",
        "# Split into train and test\n",
        "train_size = int(len(X_seq) * 0.8)\n",
        "X_train = X_seq[:train_size]\n",
        "y_train = y_seq[:train_size]\n",
        "X_test = X_seq[train_size:]\n",
        "y_test = y_seq[train_size:]"
      ]
    },
    {
      "cell_type": "code",
      "execution_count": 13,
      "metadata": {},
      "outputs": [
        {
          "name": "stderr",
          "output_type": "stream",
          "text": [
            "C:\\Users\\camil\\AppData\\Local\\Packages\\PythonSoftwareFoundation.Python.3.11_qbz5n2kfra8p0\\LocalCache\\local-packages\\Python311\\site-packages\\keras\\src\\layers\\rnn\\rnn.py:200: UserWarning: Do not pass an `input_shape`/`input_dim` argument to a layer. When using Sequential models, prefer using an `Input(shape)` object as the first layer in the model instead.\n",
            "  super().__init__(**kwargs)\n"
          ]
        },
        {
          "name": "stdout",
          "output_type": "stream",
          "text": [
            "Epoch 1/10\n",
            "\u001b[1m8978/8978\u001b[0m \u001b[32m━━━━━━━━━━━━━━━━━━━━\u001b[0m\u001b[37m\u001b[0m \u001b[1m29s\u001b[0m 3ms/step - loss: 0.2591 - val_loss: 0.1500\n",
            "Epoch 2/10\n",
            "\u001b[1m8978/8978\u001b[0m \u001b[32m━━━━━━━━━━━━━━━━━━━━\u001b[0m\u001b[37m\u001b[0m \u001b[1m29s\u001b[0m 3ms/step - loss: 0.1540 - val_loss: 0.1123\n",
            "Epoch 3/10\n",
            "\u001b[1m8978/8978\u001b[0m \u001b[32m━━━━━━━━━━━━━━━━━━━━\u001b[0m\u001b[37m\u001b[0m \u001b[1m30s\u001b[0m 3ms/step - loss: 0.1506 - val_loss: 0.1262\n",
            "Epoch 4/10\n",
            "\u001b[1m8978/8978\u001b[0m \u001b[32m━━━━━━━━━━━━━━━━━━━━\u001b[0m\u001b[37m\u001b[0m \u001b[1m29s\u001b[0m 3ms/step - loss: 0.1479 - val_loss: 0.1042\n",
            "Epoch 5/10\n",
            "\u001b[1m8978/8978\u001b[0m \u001b[32m━━━━━━━━━━━━━━━━━━━━\u001b[0m\u001b[37m\u001b[0m \u001b[1m29s\u001b[0m 3ms/step - loss: 0.1458 - val_loss: 0.0927\n",
            "Epoch 6/10\n",
            "\u001b[1m8978/8978\u001b[0m \u001b[32m━━━━━━━━━━━━━━━━━━━━\u001b[0m\u001b[37m\u001b[0m \u001b[1m29s\u001b[0m 3ms/step - loss: 0.1443 - val_loss: 0.1201\n",
            "Epoch 7/10\n",
            "\u001b[1m8978/8978\u001b[0m \u001b[32m━━━━━━━━━━━━━━━━━━━━\u001b[0m\u001b[37m\u001b[0m \u001b[1m29s\u001b[0m 3ms/step - loss: 0.1453 - val_loss: 0.1148\n",
            "Epoch 8/10\n",
            "\u001b[1m8978/8978\u001b[0m \u001b[32m━━━━━━━━━━━━━━━━━━━━\u001b[0m\u001b[37m\u001b[0m \u001b[1m29s\u001b[0m 3ms/step - loss: 0.1449 - val_loss: 0.1044\n",
            "Epoch 9/10\n",
            "\u001b[1m8978/8978\u001b[0m \u001b[32m━━━━━━━━━━━━━━━━━━━━\u001b[0m\u001b[37m\u001b[0m \u001b[1m29s\u001b[0m 3ms/step - loss: 0.1414 - val_loss: 0.0973\n",
            "Epoch 10/10\n",
            "\u001b[1m8978/8978\u001b[0m \u001b[32m━━━━━━━━━━━━━━━━━━━━\u001b[0m\u001b[37m\u001b[0m \u001b[1m29s\u001b[0m 3ms/step - loss: 0.1383 - val_loss: 0.1014\n"
          ]
        },
        {
          "data": {
            "text/plain": [
              "['scaler.pkl']"
            ]
          },
          "execution_count": 13,
          "metadata": {},
          "output_type": "execute_result"
        }
      ],
      "source": [
        "# Build and train model\n",
        "\n",
        "model = Sequential([\n",
        "    LSTM(50, activation='relu', input_shape=(seq_length, X.shape[1]), return_sequences=True),\n",
        "    Dropout(0.2),\n",
        "    LSTM(25, activation='relu'),\n",
        "    Dropout(0.2),\n",
        "    Dense(1)\n",
        "])\n",
        "\n",
        "model.compile(optimizer='adam', loss='mae')\n",
        "\n",
        "history = model.fit(\n",
        "    X_train, y_train,\n",
        "    epochs=10,\n",
        "    batch_size=32,\n",
        "    validation_split=0.1,\n",
        "    verbose=1\n",
        ")\n",
        "\n",
        "model.save('ModeloLSTM.keras')\n",
        "joblib.dump(scaler, 'scaler.pkl')"
      ]
    },
    {
      "cell_type": "code",
      "execution_count": 149,
      "metadata": {},
      "outputs": [
        {
          "data": {
            "text/html": [
              "<pre style=\"white-space:pre;overflow-x:auto;line-height:normal;font-family:Menlo,'DejaVu Sans Mono',consolas,'Courier New',monospace\"><span style=\"font-weight: bold\">Model: \"sequential_6\"</span>\n",
              "</pre>\n"
            ],
            "text/plain": [
              "\u001b[1mModel: \"sequential_6\"\u001b[0m\n"
            ]
          },
          "metadata": {},
          "output_type": "display_data"
        },
        {
          "data": {
            "text/html": [
              "<pre style=\"white-space:pre;overflow-x:auto;line-height:normal;font-family:Menlo,'DejaVu Sans Mono',consolas,'Courier New',monospace\">┏━━━━━━━━━━━━━━━━━━━━━━━━━━━━━━━━━┳━━━━━━━━━━━━━━━━━━━━━━━━┳━━━━━━━━━━━━━━━┓\n",
              "┃<span style=\"font-weight: bold\"> Layer (type)                    </span>┃<span style=\"font-weight: bold\"> Output Shape           </span>┃<span style=\"font-weight: bold\">       Param # </span>┃\n",
              "┡━━━━━━━━━━━━━━━━━━━━━━━━━━━━━━━━━╇━━━━━━━━━━━━━━━━━━━━━━━━╇━━━━━━━━━━━━━━━┩\n",
              "│ lstm_12 (<span style=\"color: #0087ff; text-decoration-color: #0087ff\">LSTM</span>)                  │ (<span style=\"color: #00d7ff; text-decoration-color: #00d7ff\">None</span>, <span style=\"color: #00af00; text-decoration-color: #00af00\">7</span>, <span style=\"color: #00af00; text-decoration-color: #00af00\">100</span>)         │        <span style=\"color: #00af00; text-decoration-color: #00af00\">44,400</span> │\n",
              "├─────────────────────────────────┼────────────────────────┼───────────────┤\n",
              "│ dropout_12 (<span style=\"color: #0087ff; text-decoration-color: #0087ff\">Dropout</span>)            │ (<span style=\"color: #00d7ff; text-decoration-color: #00d7ff\">None</span>, <span style=\"color: #00af00; text-decoration-color: #00af00\">7</span>, <span style=\"color: #00af00; text-decoration-color: #00af00\">100</span>)         │             <span style=\"color: #00af00; text-decoration-color: #00af00\">0</span> │\n",
              "├─────────────────────────────────┼────────────────────────┼───────────────┤\n",
              "│ lstm_13 (<span style=\"color: #0087ff; text-decoration-color: #0087ff\">LSTM</span>)                  │ (<span style=\"color: #00d7ff; text-decoration-color: #00d7ff\">None</span>, <span style=\"color: #00af00; text-decoration-color: #00af00\">50</span>)             │        <span style=\"color: #00af00; text-decoration-color: #00af00\">30,200</span> │\n",
              "├─────────────────────────────────┼────────────────────────┼───────────────┤\n",
              "│ dropout_13 (<span style=\"color: #0087ff; text-decoration-color: #0087ff\">Dropout</span>)            │ (<span style=\"color: #00d7ff; text-decoration-color: #00d7ff\">None</span>, <span style=\"color: #00af00; text-decoration-color: #00af00\">50</span>)             │             <span style=\"color: #00af00; text-decoration-color: #00af00\">0</span> │\n",
              "├─────────────────────────────────┼────────────────────────┼───────────────┤\n",
              "│ dense_6 (<span style=\"color: #0087ff; text-decoration-color: #0087ff\">Dense</span>)                 │ (<span style=\"color: #00d7ff; text-decoration-color: #00d7ff\">None</span>, <span style=\"color: #00af00; text-decoration-color: #00af00\">1</span>)              │            <span style=\"color: #00af00; text-decoration-color: #00af00\">51</span> │\n",
              "└─────────────────────────────────┴────────────────────────┴───────────────┘\n",
              "</pre>\n"
            ],
            "text/plain": [
              "┏━━━━━━━━━━━━━━━━━━━━━━━━━━━━━━━━━┳━━━━━━━━━━━━━━━━━━━━━━━━┳━━━━━━━━━━━━━━━┓\n",
              "┃\u001b[1m \u001b[0m\u001b[1mLayer (type)                   \u001b[0m\u001b[1m \u001b[0m┃\u001b[1m \u001b[0m\u001b[1mOutput Shape          \u001b[0m\u001b[1m \u001b[0m┃\u001b[1m \u001b[0m\u001b[1m      Param #\u001b[0m\u001b[1m \u001b[0m┃\n",
              "┡━━━━━━━━━━━━━━━━━━━━━━━━━━━━━━━━━╇━━━━━━━━━━━━━━━━━━━━━━━━╇━━━━━━━━━━━━━━━┩\n",
              "│ lstm_12 (\u001b[38;5;33mLSTM\u001b[0m)                  │ (\u001b[38;5;45mNone\u001b[0m, \u001b[38;5;34m7\u001b[0m, \u001b[38;5;34m100\u001b[0m)         │        \u001b[38;5;34m44,400\u001b[0m │\n",
              "├─────────────────────────────────┼────────────────────────┼───────────────┤\n",
              "│ dropout_12 (\u001b[38;5;33mDropout\u001b[0m)            │ (\u001b[38;5;45mNone\u001b[0m, \u001b[38;5;34m7\u001b[0m, \u001b[38;5;34m100\u001b[0m)         │             \u001b[38;5;34m0\u001b[0m │\n",
              "├─────────────────────────────────┼────────────────────────┼───────────────┤\n",
              "│ lstm_13 (\u001b[38;5;33mLSTM\u001b[0m)                  │ (\u001b[38;5;45mNone\u001b[0m, \u001b[38;5;34m50\u001b[0m)             │        \u001b[38;5;34m30,200\u001b[0m │\n",
              "├─────────────────────────────────┼────────────────────────┼───────────────┤\n",
              "│ dropout_13 (\u001b[38;5;33mDropout\u001b[0m)            │ (\u001b[38;5;45mNone\u001b[0m, \u001b[38;5;34m50\u001b[0m)             │             \u001b[38;5;34m0\u001b[0m │\n",
              "├─────────────────────────────────┼────────────────────────┼───────────────┤\n",
              "│ dense_6 (\u001b[38;5;33mDense\u001b[0m)                 │ (\u001b[38;5;45mNone\u001b[0m, \u001b[38;5;34m1\u001b[0m)              │            \u001b[38;5;34m51\u001b[0m │\n",
              "└─────────────────────────────────┴────────────────────────┴───────────────┘\n"
            ]
          },
          "metadata": {},
          "output_type": "display_data"
        },
        {
          "data": {
            "text/html": [
              "<pre style=\"white-space:pre;overflow-x:auto;line-height:normal;font-family:Menlo,'DejaVu Sans Mono',consolas,'Courier New',monospace\"><span style=\"font-weight: bold\"> Total params: </span><span style=\"color: #00af00; text-decoration-color: #00af00\">223,955</span> (874.83 KB)\n",
              "</pre>\n"
            ],
            "text/plain": [
              "\u001b[1m Total params: \u001b[0m\u001b[38;5;34m223,955\u001b[0m (874.83 KB)\n"
            ]
          },
          "metadata": {},
          "output_type": "display_data"
        },
        {
          "data": {
            "text/html": [
              "<pre style=\"white-space:pre;overflow-x:auto;line-height:normal;font-family:Menlo,'DejaVu Sans Mono',consolas,'Courier New',monospace\"><span style=\"font-weight: bold\"> Trainable params: </span><span style=\"color: #00af00; text-decoration-color: #00af00\">74,651</span> (291.61 KB)\n",
              "</pre>\n"
            ],
            "text/plain": [
              "\u001b[1m Trainable params: \u001b[0m\u001b[38;5;34m74,651\u001b[0m (291.61 KB)\n"
            ]
          },
          "metadata": {},
          "output_type": "display_data"
        },
        {
          "data": {
            "text/html": [
              "<pre style=\"white-space:pre;overflow-x:auto;line-height:normal;font-family:Menlo,'DejaVu Sans Mono',consolas,'Courier New',monospace\"><span style=\"font-weight: bold\"> Non-trainable params: </span><span style=\"color: #00af00; text-decoration-color: #00af00\">0</span> (0.00 B)\n",
              "</pre>\n"
            ],
            "text/plain": [
              "\u001b[1m Non-trainable params: \u001b[0m\u001b[38;5;34m0\u001b[0m (0.00 B)\n"
            ]
          },
          "metadata": {},
          "output_type": "display_data"
        },
        {
          "data": {
            "text/html": [
              "<pre style=\"white-space:pre;overflow-x:auto;line-height:normal;font-family:Menlo,'DejaVu Sans Mono',consolas,'Courier New',monospace\"><span style=\"font-weight: bold\"> Optimizer params: </span><span style=\"color: #00af00; text-decoration-color: #00af00\">149,304</span> (583.22 KB)\n",
              "</pre>\n"
            ],
            "text/plain": [
              "\u001b[1m Optimizer params: \u001b[0m\u001b[38;5;34m149,304\u001b[0m (583.22 KB)\n"
            ]
          },
          "metadata": {},
          "output_type": "display_data"
        }
      ],
      "source": [
        "model.summary()"
      ]
    },
    {
      "cell_type": "code",
      "execution_count": 147,
      "metadata": {},
      "outputs": [
        {
          "name": "stdout",
          "output_type": "stream",
          "text": [
            "\u001b[1m1/1\u001b[0m \u001b[32m━━━━━━━━━━━━━━━━━━━━\u001b[0m\u001b[37m\u001b[0m \u001b[1m0s\u001b[0m 187ms/step\n",
            "\u001b[1m1/1\u001b[0m \u001b[32m━━━━━━━━━━━━━━━━━━━━\u001b[0m\u001b[37m\u001b[0m \u001b[1m0s\u001b[0m 26ms/step\n",
            "\u001b[1m1/1\u001b[0m \u001b[32m━━━━━━━━━━━━━━━━━━━━\u001b[0m\u001b[37m\u001b[0m \u001b[1m0s\u001b[0m 26ms/step\n",
            "\u001b[1m1/1\u001b[0m \u001b[32m━━━━━━━━━━━━━━━━━━━━\u001b[0m\u001b[37m\u001b[0m \u001b[1m0s\u001b[0m 25ms/step\n",
            "\u001b[1m1/1\u001b[0m \u001b[32m━━━━━━━━━━━━━━━━━━━━\u001b[0m\u001b[37m\u001b[0m \u001b[1m0s\u001b[0m 24ms/step\n",
            "\u001b[1m1/1\u001b[0m \u001b[32m━━━━━━━━━━━━━━━━━━━━\u001b[0m\u001b[37m\u001b[0m \u001b[1m0s\u001b[0m 24ms/step\n",
            "\u001b[1m1/1\u001b[0m \u001b[32m━━━━━━━━━━━━━━━━━━━━\u001b[0m\u001b[37m\u001b[0m \u001b[1m0s\u001b[0m 27ms/step\n",
            "\u001b[1m1/1\u001b[0m \u001b[32m━━━━━━━━━━━━━━━━━━━━\u001b[0m\u001b[37m\u001b[0m \u001b[1m0s\u001b[0m 24ms/step\n",
            "\u001b[1m1/1\u001b[0m \u001b[32m━━━━━━━━━━━━━━━━━━━━\u001b[0m\u001b[37m\u001b[0m \u001b[1m0s\u001b[0m 27ms/step\n",
            "\u001b[1m1/1\u001b[0m \u001b[32m━━━━━━━━━━━━━━━━━━━━\u001b[0m\u001b[37m\u001b[0m \u001b[1m0s\u001b[0m 23ms/step\n",
            "\u001b[1m1/1\u001b[0m \u001b[32m━━━━━━━━━━━━━━━━━━━━\u001b[0m\u001b[37m\u001b[0m \u001b[1m0s\u001b[0m 27ms/step\n",
            "\u001b[1m1/1\u001b[0m \u001b[32m━━━━━━━━━━━━━━━━━━━━\u001b[0m\u001b[37m\u001b[0m \u001b[1m0s\u001b[0m 24ms/step\n",
            "\u001b[1m1/1\u001b[0m \u001b[32m━━━━━━━━━━━━━━━━━━━━\u001b[0m\u001b[37m\u001b[0m \u001b[1m0s\u001b[0m 25ms/step\n",
            "\u001b[1m1/1\u001b[0m \u001b[32m━━━━━━━━━━━━━━━━━━━━\u001b[0m\u001b[37m\u001b[0m \u001b[1m0s\u001b[0m 27ms/step\n",
            "\u001b[1m1/1\u001b[0m \u001b[32m━━━━━━━━━━━━━━━━━━━━\u001b[0m\u001b[37m\u001b[0m \u001b[1m0s\u001b[0m 30ms/step\n",
            "\u001b[1m1/1\u001b[0m \u001b[32m━━━━━━━━━━━━━━━━━━━━\u001b[0m\u001b[37m\u001b[0m \u001b[1m0s\u001b[0m 28ms/step\n",
            "\u001b[1m1/1\u001b[0m \u001b[32m━━━━━━━━━━━━━━━━━━━━\u001b[0m\u001b[37m\u001b[0m \u001b[1m0s\u001b[0m 25ms/step\n",
            "\u001b[1m1/1\u001b[0m \u001b[32m━━━━━━━━━━━━━━━━━━━━\u001b[0m\u001b[37m\u001b[0m \u001b[1m0s\u001b[0m 25ms/step\n",
            "\u001b[1m1/1\u001b[0m \u001b[32m━━━━━━━━━━━━━━━━━━━━\u001b[0m\u001b[37m\u001b[0m \u001b[1m0s\u001b[0m 28ms/step\n",
            "\u001b[1m1/1\u001b[0m \u001b[32m━━━━━━━━━━━━━━━━━━━━\u001b[0m\u001b[37m\u001b[0m \u001b[1m0s\u001b[0m 25ms/step\n",
            "\u001b[1m1/1\u001b[0m \u001b[32m━━━━━━━━━━━━━━━━━━━━\u001b[0m\u001b[37m\u001b[0m \u001b[1m0s\u001b[0m 26ms/step\n",
            "\u001b[1m1/1\u001b[0m \u001b[32m━━━━━━━━━━━━━━━━━━━━\u001b[0m\u001b[37m\u001b[0m \u001b[1m0s\u001b[0m 26ms/step\n",
            "\u001b[1m1/1\u001b[0m \u001b[32m━━━━━━━━━━━━━━━━━━━━\u001b[0m\u001b[37m\u001b[0m \u001b[1m0s\u001b[0m 25ms/step\n",
            "\u001b[1m1/1\u001b[0m \u001b[32m━━━━━━━━━━━━━━━━━━━━\u001b[0m\u001b[37m\u001b[0m \u001b[1m0s\u001b[0m 24ms/step\n",
            "\u001b[1m1/1\u001b[0m \u001b[32m━━━━━━━━━━━━━━━━━━━━\u001b[0m\u001b[37m\u001b[0m \u001b[1m0s\u001b[0m 25ms/step\n",
            "\u001b[1m1/1\u001b[0m \u001b[32m━━━━━━━━━━━━━━━━━━━━\u001b[0m\u001b[37m\u001b[0m \u001b[1m0s\u001b[0m 26ms/step\n",
            "\u001b[1m1/1\u001b[0m \u001b[32m━━━━━━━━━━━━━━━━━━━━\u001b[0m\u001b[37m\u001b[0m \u001b[1m0s\u001b[0m 24ms/step\n",
            "\u001b[1m1/1\u001b[0m \u001b[32m━━━━━━━━━━━━━━━━━━━━\u001b[0m\u001b[37m\u001b[0m \u001b[1m0s\u001b[0m 25ms/step\n",
            "\u001b[1m1/1\u001b[0m \u001b[32m━━━━━━━━━━━━━━━━━━━━\u001b[0m\u001b[37m\u001b[0m \u001b[1m0s\u001b[0m 25ms/step\n",
            "\u001b[1m1/1\u001b[0m \u001b[32m━━━━━━━━━━━━━━━━━━━━\u001b[0m\u001b[37m\u001b[0m \u001b[1m0s\u001b[0m 24ms/step\n",
            "\u001b[1m2494/2494\u001b[0m \u001b[32m━━━━━━━━━━━━━━━━━━━━\u001b[0m\u001b[37m\u001b[0m \u001b[1m3s\u001b[0m 1ms/step\n",
            "RMSE: 5336.05\n",
            "MAE: 2483.06\n"
          ]
        },
        {
          "data": {
            "image/png": "[encoded data removed]",
            "text/plain": [
              "<Figure size 1200x600 with 1 Axes>"
            ]
          },
          "metadata": {},
          "output_type": "display_data"
        }
      ],
      "source": [
        "# Make predictions for next 30 days\n",
        "last_sequence = X_seq[-1]\n",
        "predictions = []\n",
        "    \n",
        "for _ in range(30):\n",
        "    next_pred = model.predict(last_sequence.reshape(1, seq_length, X.shape[1]))\n",
        "    predictions.append(next_pred[0])\n",
        "    last_sequence = np.roll(last_sequence, -1, axis=0)\n",
        "    last_sequence[-1] = next_pred\n",
        "\n",
        "# Transform predictions back to original scale\n",
        "sales_scaler = scaler_dict['Weekly_Sales']\n",
        "predictions = sales_scaler.inverse_transform(np.array(predictions).reshape(-1, 1))\n",
        "\n",
        "# Calculate metrics for test set\n",
        "y_pred = model.predict(X_test).flatten()\n",
        "\n",
        "# Transform predictions and actual values back to original scale\n",
        "sales_scaler = scaler_dict['Weekly_Sales']\n",
        "predictions = sales_scaler.inverse_transform(np.array(predictions).reshape(-1, 1))\n",
        "y_pred_original = sales_scaler.inverse_transform(y_pred.reshape(-1, 1))\n",
        "y_test_original = sales_scaler.inverse_transform(y_test.reshape(-1, 1))\n",
        "\n",
        "rmse = np.sqrt(mean_squared_error(y_test_original, y_pred_original))\n",
        "mae = mean_absolute_error(y_test_original, y_pred_original)\n",
        "\n",
        "\n",
        "def plot_predictions(predictions, data):\n",
        "    # Create future dates\n",
        "    last_date = pd.to_datetime(data['Date'].max())\n",
        "    future_dates = pd.date_range(start=last_date + pd.Timedelta(days=1), periods=30, freq='D')\n",
        "    \n",
        "    plt.figure(figsize=(12, 6))\n",
        "    \n",
        "    # Plot historical data\n",
        "    plt.plot(data['Date'].tail(30), data['Weekly_Sales'].tail(30), \n",
        "             label='Historical Sales', color='blue')\n",
        "    \n",
        "    # Plot predictions\n",
        "    plt.plot(future_dates, predictions, label='Predicted Sales', \n",
        "             color='red', linestyle='--')\n",
        "    \n",
        "    plt.title('Sales Prediction for Next 30 Days')\n",
        "    plt.xlabel('Date')\n",
        "    plt.ylabel('Weekly Sales')\n",
        "    plt.legend()\n",
        "    plt.grid(True)\n",
        "    plt.xticks(rotation=45)\n",
        "    plt.tight_layout()\n",
        "    \n",
        "    return plt\n",
        "\n",
        "\n",
        "# Assuming 'data' is your DataFrame\n",
        "\n",
        "print(f'RMSE: {rmse:.2f}')\n",
        "print(f'MAE: {mae:.2f}')\n",
        "\n",
        "# Plot predictions\n",
        "plot = plot_predictions(predictions, data)\n",
        "plot.show()"
      ]
    },
    {
      "cell_type": "code",
      "execution_count": null,
      "metadata": {
        "colab": {
          "base_uri": "https://localhost:8080/"
        },
        "id": "lyBnX0sLCLtQ",
        "outputId": "6d25d386-d6cf-4259-b5fb-6cc4df281fc0"
      },
      "outputs": [
        {
          "name": "stdout",
          "output_type": "stream",
          "text": [
            "The average weekly sales is: 15981.25812346704\n",
            "The standard deviation of weekly sales is: 22711.18351916313\n"
          ]
        }
      ],
      "source": [
        "# Load the data\n",
        "data = pd.read_csv(\"train.csv\")\n",
        "\n",
        "# Calculate the average weekly sales and their standard deviation\n",
        "average_weekly_sales = data['Weekly_Sales'].mean()\n",
        "sd_weekly_sales = data['Weekly_Sales'].std()\n",
        "\n",
        "print(f\"The average weekly sales is: {average_weekly_sales}\")\n",
        "print(f\"The standard deviation of weekly sales is: {sd_weekly_sales}\")"
      ]
    },
    {
      "cell_type": "code",
      "execution_count": null,
      "metadata": {
        "colab": {
          "base_uri": "https://localhost:8080/"
        },
        "id": "QtmAV5GBKfFJ",
        "outputId": "50718fa8-08e1-460e-ff28-7f3139ca2c0a"
      },
      "outputs": [
        {
          "name": "stdout",
          "output_type": "stream",
          "text": [
            "\u001b[1m2522/2522\u001b[0m \u001b[32m━━━━━━━━━━━━━━━━━━━━\u001b[0m\u001b[37m\u001b[0m \u001b[1m9s\u001b[0m 4ms/step\n",
            "RMSE: 3691.0299435685683\n",
            "MAE: 1632.8773077107417\n"
          ]
        }
      ],
      "source": [
        "# Predict on the test set\n",
        "y_pred = model.predict(X_test)\n",
        "\n",
        "# Inverse transform the scaled data\n",
        "y_test_inv = scaler.inverse_transform(np.concatenate([y_test.reshape(-1, 1), np.zeros((len(y_test), len(features_to_scale) - 1))], axis=1))[:, 0]\n",
        "y_pred_inv = scaler.inverse_transform(np.concatenate([y_pred.reshape(-1, 1), np.zeros((len(y_pred), len(features_to_scale) - 1))], axis=1))[:, 0]\n",
        "\n",
        "# Calculate evaluation metrics\n",
        "rmse = np.sqrt(mean_squared_error(y_test_inv, y_pred_inv))\n",
        "mae = mean_absolute_error(y_test_inv, y_pred_inv)\n",
        "print(f\"RMSE: {rmse}\")\n",
        "print(f\"MAE: {mae}\")"
      ]
    }
  ],
  "metadata": {
    "accelerator": "GPU",
    "colab": {
      "gpuType": "T4",
      "provenance": []
    },
    "kernelspec": {
      "display_name": "Python 3",
      "name": "python3"
    },
    "language_info": {
      "codemirror_mode": {
        "name": "ipython",
        "version": 3
      },
      "file_extension": ".py",
      "mimetype": "text/x-python",
      "name": "python",
      "nbconvert_exporter": "python",
      "pygments_lexer": "ipython3",
      "version": "3.11.9"
    }
  },
  "nbformat": 4,
  "nbformat_minor": 0
}
